{
 "cells": [
  {
   "cell_type": "markdown",
   "id": "1bf40865-daa5-4acf-80ab-854db38794eb",
   "metadata": {},
   "source": [
    "# Arbeidskrav 5 : mattemoduler"
   ]
  },
  {
   "cell_type": "code",
   "execution_count": null,
   "id": "e6183651-90f5-4b26-a356-48d39377fc43",
   "metadata": {},
   "outputs": [],
   "source": [
    "# komma ersatter = (,=)"
   ]
  },
  {
   "cell_type": "code",
   "execution_count": 3,
   "id": "76c4a35e-ebcb-498e-b4d5-73f54a0ee28a",
   "metadata": {},
   "outputs": [],
   "source": [
    "import sympy as sp\n",
    "from sympy.solvers import solve\n",
    "x,y=sp.symbols('x y')\n",
    "\n",
    "import pandas as pd\n",
    "import numpy as np\n",
    "import matplotlib.pyplot as plt\n",
    "from IPython.display import display, Markdown\n"
   ]
  },
  {
   "cell_type": "code",
   "execution_count": 4,
   "id": "5321ec1b-4cde-4259-814a-04dd79d88fbc",
   "metadata": {},
   "outputs": [
    {
     "data": {
      "text/plain": [
       "{x: -1, y: 2}"
      ]
     },
     "execution_count": 4,
     "metadata": {},
     "output_type": "execute_result"
    }
   ],
   "source": [
    "# Modul 15\n",
    "# Oppgave 1A\n",
    "\n",
    "eq1 = sp.Eq(2*x + 4*y, 6)\n",
    "eq1\n",
    "\n",
    "eq2 = sp.Eq(-2*x + y, 4)\n",
    "eq2\n",
    "\n",
    "sol=solve([eq1,eq2], [x,y])\n",
    "sol"
   ]
  },
  {
   "cell_type": "code",
   "execution_count": 5,
   "id": "d32d1128-92c2-4e5c-aec7-4c49c0b675a3",
   "metadata": {},
   "outputs": [
    {
     "data": {
      "text/plain": [
       "[(-1, -1), (2, 5)]"
      ]
     },
     "execution_count": 5,
     "metadata": {},
     "output_type": "execute_result"
    }
   ],
   "source": [
    "# Oppgave 1B\n",
    "\n",
    "eq3 = sp.Eq(2*x - y, -1)\n",
    "eq3\n",
    "\n",
    "eq4 = sp.Eq(x**2 + x - y,  1)\n",
    "eq4\n",
    "\n",
    "\n",
    "sol=solve([eq3,eq4], [x,y])\n",
    "sol\n",
    "\n"
   ]
  },
  {
   "cell_type": "code",
   "execution_count": 15,
   "id": "a44ebfb7-60c3-488c-8ca5-26172fa7684b",
   "metadata": {},
   "outputs": [
    {
     "data": {
      "text/plain": [
       "{x: 4, y: 0}"
      ]
     },
     "execution_count": 15,
     "metadata": {},
     "output_type": "execute_result"
    }
   ],
   "source": [
    "# Oppgave 2A\n",
    "\n",
    "eq5 = sp.Eq(3*x - 12 , - 6*y)\n",
    "eq5\n",
    "\n",
    "eq6 = sp.Eq(4*x - 8*y , 16)\n",
    "eq6\n",
    "\n",
    "sol=solve([eq5,eq6], [x,y])\n",
    "sol"
   ]
  },
  {
   "cell_type": "code",
   "execution_count": 16,
   "id": "5b866cf5-c430-435f-beb2-753712ff0db1",
   "metadata": {},
   "outputs": [
    {
     "data": {
      "text/plain": [
       "[(-15/2, 31/4), (2, 3)]"
      ]
     },
     "execution_count": 16,
     "metadata": {},
     "output_type": "execute_result"
    }
   ],
   "source": [
    "# Oppgave 2B\n",
    "\n",
    "eq7 = sp.Eq(x**2 + 4*x - 3 ,3*y)\n",
    "eq7\n",
    "\n",
    "eq8 = sp.Eq(2*y , 8 - x)\n",
    "eq8\n",
    "\n",
    "sol=solve([eq7,eq8], [x,y])\n",
    "sol"
   ]
  },
  {
   "cell_type": "code",
   "execution_count": 17,
   "id": "2c5b7e70-3032-4dff-a00f-329d46abed82",
   "metadata": {},
   "outputs": [
    {
     "data": {
      "text/plain": [
       "{x: 2, y: 2}"
      ]
     },
     "execution_count": 17,
     "metadata": {},
     "output_type": "execute_result"
    }
   ],
   "source": [
    "# Modul 16 \n",
    "# Oppgave 1A\n",
    "\n",
    "eq9 = sp.Eq(4*x + 2*y , 12)\n",
    "eq9\n",
    "\n",
    "eq10 = sp.Eq(6*x - 2*y , 8)\n",
    "eq10\n",
    "\n",
    "sol=solve([eq9,eq10], [x,y])\n",
    "sol"
   ]
  },
  {
   "cell_type": "code",
   "execution_count": 18,
   "id": "5ba7f75e-6198-48b8-a06a-024af2008053",
   "metadata": {},
   "outputs": [
    {
     "data": {
      "text/plain": [
       "[(0, -5), (12, 1)]"
      ]
     },
     "execution_count": 18,
     "metadata": {},
     "output_type": "execute_result"
    }
   ],
   "source": [
    "import sympy as sp\n",
    "from sympy.solvers import solve\n",
    "x,y=sp.symbols('x y')\n",
    "\n",
    "# Oppgave 1B\n",
    "\n",
    "eq11 = sp.Eq(2*x + y**2 , 25)\n",
    "eq11\n",
    "\n",
    "eq12 = sp.Eq(x - 2*y , 10)\n",
    "eq12\n",
    "\n",
    "sol=solve([eq11,eq12], [x,y])\n",
    "sol"
   ]
  },
  {
   "cell_type": "code",
   "execution_count": 19,
   "id": "4f7ae076-707e-486b-9642-4c610cea7770",
   "metadata": {},
   "outputs": [
    {
     "data": {
      "text/plain": [
       "{x: 4, y: 2}"
      ]
     },
     "execution_count": 19,
     "metadata": {},
     "output_type": "execute_result"
    }
   ],
   "source": [
    "# Oppgave 2A\n",
    "eq13 = sp.Eq(4*x - 4*y , 8)\n",
    "eq13\n",
    "\n",
    "eq14 = sp.Eq(9*x - 5*y , 26)\n",
    "eq14\n",
    "\n",
    "sol=solve([eq13,eq14], [x,y])\n",
    "sol\n"
   ]
  },
  {
   "cell_type": "code",
   "execution_count": 20,
   "id": "065c651e-b338-4a7c-bfbb-146f30b8dc43",
   "metadata": {},
   "outputs": [
    {
     "data": {
      "text/plain": [
       "[(-9, -2*sqrt(3)), (-9, 2*sqrt(3)), (7, -2), (7, 2)]"
      ]
     },
     "execution_count": 20,
     "metadata": {},
     "output_type": "execute_result"
    }
   ],
   "source": [
    "# Oppgave 2B\n",
    "eq15 = sp.Eq(x + 2*y**2 , 15)\n",
    "eq15\n",
    "\n",
    "eq16 = sp.Eq(x**2 - 4*y**2 , 33)\n",
    "eq16\n",
    "\n",
    "sol=solve([eq15,eq16], [x,y])\n",
    "sol\n",
    "\n"
   ]
  },
  {
   "cell_type": "code",
   "execution_count": 21,
   "id": "04d549e8-4b82-4b6f-a7d4-dd8fb56c957c",
   "metadata": {},
   "outputs": [
    {
     "data": {
      "text/plain": [
       "[(0, -4), (0, 4), (15, -1), (15, 1)]"
      ]
     },
     "execution_count": 21,
     "metadata": {},
     "output_type": "execute_result"
    }
   ],
   "source": [
    "# Modul 17\n",
    "# Oppgave 1A\n",
    "eq17 = sp.Eq(x*y**2 - x , 0)\n",
    "eq17\n",
    "\n",
    "eq18 = sp.Eq(x + y**2 , 16)\n",
    "eq18\n",
    "\n",
    "sol=solve([eq17,eq18], [x,y])\n",
    "sol"
   ]
  },
  {
   "cell_type": "code",
   "execution_count": 23,
   "id": "484cd4a1-d53a-4826-ae05-e67a99d67da4",
   "metadata": {},
   "outputs": [
    {
     "data": {
      "text/plain": [
       "[(-10, 0), (-6, -8), (-6, 8), (6, -8), (6, 8), (10, 0)]"
      ]
     },
     "execution_count": 23,
     "metadata": {},
     "output_type": "execute_result"
    }
   ],
   "source": [
    "# Oppgave 1B\n",
    "eq19 = sp.Eq(x**2+y**2 , 100)\n",
    "eq19\n",
    "\n",
    "eq20 = sp.Eq(x**2*y - 36*y , 0)\n",
    "eq20\n",
    "\n",
    "sol=solve([eq19,eq20], [x,y])\n",
    "sol"
   ]
  },
  {
   "cell_type": "code",
   "execution_count": 24,
   "id": "eb622a90-e09e-4f71-9a4f-efb19cbc96e4",
   "metadata": {},
   "outputs": [
    {
     "data": {
      "text/plain": [
       "[(-3, -7), (-3, 7), (0, -sqrt(58)), (0, sqrt(58)), (3, -7), (3, 7)]"
      ]
     },
     "execution_count": 24,
     "metadata": {},
     "output_type": "execute_result"
    }
   ],
   "source": [
    "# Oppgave 2A\n",
    "eq21 = sp.Eq(x*y**2 - 49*x , 0)\n",
    "eq21\n",
    "\n",
    "eq22 = sp.Eq(x**2 + y**2 , 58)\n",
    "eq22\n",
    "\n",
    "sol=solve([eq21,eq22], [x,y])\n",
    "sol"
   ]
  },
  {
   "cell_type": "code",
   "execution_count": 25,
   "id": "454ae571-7030-4a0c-8036-56a0664dc060",
   "metadata": {},
   "outputs": [
    {
     "data": {
      "text/plain": [
       "[(-1.11803398874989, 0.0),\n",
       " (-0.500000000000000, -1.00000000000000),\n",
       " (-0.500000000000000, 1.00000000000000),\n",
       " (1.11803398874989, 0.0)]"
      ]
     },
     "execution_count": 25,
     "metadata": {},
     "output_type": "execute_result"
    }
   ],
   "source": [
    "# Oppgave 2B\n",
    "eq23 = sp.Eq(x**2+y**2 , 5/4)\n",
    "eq23\n",
    "\n",
    "eq24 = sp.Eq(2*x*y + y , 0)\n",
    "eq24\n",
    "\n",
    "sol=solve([eq23,eq24], [x,y])\n",
    "sol"
   ]
  },
  {
   "cell_type": "code",
   "execution_count": 30,
   "id": "fd4aadda-5d53-4694-87f5-706d0c7f7c48",
   "metadata": {},
   "outputs": [
    {
     "data": {
      "text/latex": [
       "$\\displaystyle 1$"
      ],
      "text/plain": [
       "1"
      ]
     },
     "execution_count": 30,
     "metadata": {},
     "output_type": "execute_result"
    }
   ],
   "source": [
    "# Modul 19\n",
    "# Funksjoner\n",
    "import sympy as sp\n",
    "from sympy.solvers import solve\n",
    "x,y=sp.symbols('x y')\n",
    "\n",
    "\n",
    "# A\n",
    "eq25 = sp.diff(x**5, x)\n",
    "eq25"
   ]
  },
  {
   "cell_type": "code",
   "execution_count": 31,
   "id": "af002759-53d4-4708-b577-b0ef5554e4e8",
   "metadata": {},
   "outputs": [
    {
     "data": {
      "text/latex": [
       "$\\displaystyle 1$"
      ],
      "text/plain": [
       "1"
      ]
     },
     "execution_count": 31,
     "metadata": {},
     "output_type": "execute_result"
    }
   ],
   "source": [
    "#B\n",
    "eq26 = sp.diff(x+12 , x)\n",
    "eq26\n",
    "\n"
   ]
  },
  {
   "cell_type": "code",
   "execution_count": 13,
   "id": "c835e19e-679f-412b-8157-b4b603e01621",
   "metadata": {},
   "outputs": [
    {
     "data": {
      "text/latex": [
       "$\\displaystyle 3 x^{2} + 8 x$"
      ],
      "text/plain": [
       "3*x**2 + 8*x"
      ]
     },
     "execution_count": 13,
     "metadata": {},
     "output_type": "execute_result"
    }
   ],
   "source": [
    "#C\n",
    "eq27 = sp.diff(x**3 + 4*x**2 , x)\n",
    "eq27\n"
   ]
  },
  {
   "cell_type": "code",
   "execution_count": 11,
   "id": "7c42cfd7-2774-44ea-b8ae-405cf49cbdc6",
   "metadata": {},
   "outputs": [
    {
     "data": {
      "text/latex": [
       "$\\displaystyle 6 x^{2}$"
      ],
      "text/plain": [
       "6*x**2"
      ]
     },
     "execution_count": 11,
     "metadata": {},
     "output_type": "execute_result"
    }
   ],
   "source": [
    "#D\n",
    "eq28 = sp.diff(2*x**3 + 36**(1/2), x)\n",
    "eq28"
   ]
  },
  {
   "cell_type": "code",
   "execution_count": 29,
   "id": "40050c1b-3b69-4056-a65e-b150de6a95b1",
   "metadata": {},
   "outputs": [
    {
     "data": {
      "text/latex": [
       "$\\displaystyle \\frac{0.5}{x^{0.5}}$"
      ],
      "text/plain": [
       "0.5*x**(-0.5)"
      ]
     },
     "execution_count": 29,
     "metadata": {},
     "output_type": "execute_result"
    }
   ],
   "source": [
    "#E\n",
    "eq29 = sp.diff(x**(1/2) + 5**2, x)\n",
    "eq29"
   ]
  },
  {
   "cell_type": "code",
   "execution_count": 26,
   "id": "da841f65-e8cd-4a28-9bc9-aba82fabe9dd",
   "metadata": {},
   "outputs": [
    {
     "data": {
      "text/latex": [
       "$\\displaystyle 3 x^{2} - \\frac{1}{x^{2}}$"
      ],
      "text/plain": [
       "3*x**2 - 1/x**2"
      ]
     },
     "execution_count": 26,
     "metadata": {},
     "output_type": "execute_result"
    }
   ],
   "source": [
    "#F\n",
    "eq30 = sp.diff(x**3+(1/x), x)\n",
    "eq30\n"
   ]
  },
  {
   "cell_type": "code",
   "execution_count": 27,
   "id": "013be24b-7fa9-406f-9426-63dbb1b56574",
   "metadata": {},
   "outputs": [
    {
     "data": {
      "text/latex": [
       "$\\displaystyle 3 x^{2} - 2 x + 0.25$"
      ],
      "text/plain": [
       "3*x**2 - 2*x + 0.25"
      ]
     },
     "execution_count": 27,
     "metadata": {},
     "output_type": "execute_result"
    }
   ],
   "source": [
    "#G\n",
    "eq31 = sp.diff(x**3 - x**2 + 1/4*x, x)\n",
    "eq31\n"
   ]
  },
  {
   "cell_type": "code",
   "execution_count": 28,
   "id": "6c9391f0-4904-4f5b-9454-57577a71ea49",
   "metadata": {},
   "outputs": [
    {
     "data": {
      "text/latex": [
       "$\\displaystyle 36 x^{5} - \\frac{1}{x^{2}}$"
      ],
      "text/plain": [
       "36*x**5 - 1/x**2"
      ]
     },
     "execution_count": 28,
     "metadata": {},
     "output_type": "execute_result"
    }
   ],
   "source": [
    "# Oppgave 2\n",
    "# Funksjoner\n",
    "\n",
    "#A\n",
    "eq32 = sp.diff(1/x + 6*x**6, x)\n",
    "eq32"
   ]
  },
  {
   "cell_type": "code",
   "execution_count": 43,
   "id": "98a6cc5f-30f6-4133-a8e7-cf40796666b7",
   "metadata": {},
   "outputs": [
    {
     "data": {
      "text/latex": [
       "$\\displaystyle 1.5 x^{2} - 1$"
      ],
      "text/plain": [
       "1.5*x**2 - 1"
      ]
     },
     "execution_count": 43,
     "metadata": {},
     "output_type": "execute_result"
    }
   ],
   "source": [
    "#B\n",
    "eq33 = sp.diff( -x + 1/2*x**3 , x)\n",
    "eq33"
   ]
  },
  {
   "cell_type": "code",
   "execution_count": 47,
   "id": "fee0faa2-88b9-4c66-8ba4-54d6f4f91c65",
   "metadata": {},
   "outputs": [
    {
     "data": {
      "text/latex": [
       "$\\displaystyle x^{2} + x \\left(2 x + 2\\right) + 2 x - 3$"
      ],
      "text/plain": [
       "x**2 + x*(2*x + 2) + 2*x - 3"
      ]
     },
     "execution_count": 47,
     "metadata": {},
     "output_type": "execute_result"
    }
   ],
   "source": [
    "#C\n",
    "eq34 = sp.diff(x*(x**2 + 2*x - 3) , x)\n",
    "eq34"
   ]
  },
  {
   "cell_type": "code",
   "execution_count": 10,
   "id": "ce72c7fc-b4e0-4d00-b12e-507b7c0db21f",
   "metadata": {},
   "outputs": [],
   "source": [
    "# Modul 20\n",
    "# Produkt og brøkregelen"
   ]
  },
  {
   "cell_type": "code",
   "execution_count": 53,
   "id": "19cb2cbf-491c-4202-b24f-afe3dec4f5aa",
   "metadata": {},
   "outputs": [
    {
     "data": {
      "text/latex": [
       "$\\displaystyle 4 x^{11}$"
      ],
      "text/plain": [
       "4*x**11"
      ]
     },
     "execution_count": 53,
     "metadata": {},
     "output_type": "execute_result"
    }
   ],
   "source": [
    "#Oppgave 1\n",
    "#A\n",
    "eq35 = sp.diff(x**12/3)\n",
    "eq35"
   ]
  },
  {
   "cell_type": "code",
   "execution_count": 6,
   "id": "808bad1d-909a-469c-b171-6bc9d4c69df2",
   "metadata": {},
   "outputs": [
    {
     "data": {
      "text/latex": [
       "$\\displaystyle 9 x^{8}$"
      ],
      "text/plain": [
       "9*x**8"
      ]
     },
     "execution_count": 6,
     "metadata": {},
     "output_type": "execute_result"
    }
   ],
   "source": [
    "#E\n",
    "eq36 = sp.diff((x**4) * (x**5) , x)\n",
    "eq36"
   ]
  },
  {
   "cell_type": "code",
   "execution_count": 57,
   "id": "c2a63a01-ea76-43cc-b967-19474459f2ca",
   "metadata": {},
   "outputs": [
    {
     "data": {
      "text/latex": [
       "$\\displaystyle \\frac{3 \\sqrt{x}}{2}$"
      ],
      "text/plain": [
       "3*sqrt(x)/2"
      ]
     },
     "execution_count": 57,
     "metadata": {},
     "output_type": "execute_result"
    }
   ],
   "source": [
    "#F\n",
    "eq37 = sp.diff(x * sp.sqrt(x), x)\n",
    "eq37"
   ]
  },
  {
   "cell_type": "code",
   "execution_count": 58,
   "id": "945d9841-f411-4198-86c9-a4e72d81832e",
   "metadata": {},
   "outputs": [
    {
     "data": {
      "text/latex": [
       "$\\displaystyle - \\frac{6}{x^{4}}$"
      ],
      "text/plain": [
       "-6/x**4"
      ]
     },
     "execution_count": 58,
     "metadata": {},
     "output_type": "execute_result"
    }
   ],
   "source": [
    "#G\n",
    "eq38 = sp.diff( 2/x**3 , x)\n",
    "eq38"
   ]
  },
  {
   "cell_type": "code",
   "execution_count": 66,
   "id": "e5681a97-cb61-4b99-b549-72668f580c15",
   "metadata": {},
   "outputs": [
    {
     "data": {
      "text/latex": [
       "$\\displaystyle 2 x + \\frac{6}{x^{4}}$"
      ],
      "text/plain": [
       "2*x + 6/x**4"
      ]
     },
     "execution_count": 66,
     "metadata": {},
     "output_type": "execute_result"
    }
   ],
   "source": [
    "#H\n",
    "eq39 = sp.diff (x**2 - 2 / x**3, x)\n",
    "eq39"
   ]
  },
  {
   "cell_type": "code",
   "execution_count": 65,
   "id": "e07a192c-c6d6-491b-a60e-495ad8e06447",
   "metadata": {},
   "outputs": [
    {
     "data": {
      "text/latex": [
       "$\\displaystyle \\frac{13 x^{\\frac{11}{2}}}{2}$"
      ],
      "text/plain": [
       "13*x**(11/2)/2"
      ]
     },
     "execution_count": 65,
     "metadata": {},
     "output_type": "execute_result"
    }
   ],
   "source": [
    "#I\n",
    "eq40 = sp.diff(sp.sqrt(x) * x**6, x)\n",
    "eq40\n"
   ]
  },
  {
   "cell_type": "code",
   "execution_count": 67,
   "id": "5817a82d-a832-43fb-a929-d2344a5aca01",
   "metadata": {},
   "outputs": [
    {
     "data": {
      "text/latex": [
       "$\\displaystyle 3 x^{2} + 1$"
      ],
      "text/plain": [
       "3*x**2 + 1"
      ]
     },
     "execution_count": 67,
     "metadata": {},
     "output_type": "execute_result"
    }
   ],
   "source": [
    "#J\n",
    "eq41 = sp.diff(x *(x**2 + 1), x)\n",
    "eq41"
   ]
  },
  {
   "cell_type": "code",
   "execution_count": 38,
   "id": "5bf5d2bc-b4d2-4ed3-8291-9553f450e289",
   "metadata": {},
   "outputs": [
    {
     "data": {
      "text/latex": [
       "$\\displaystyle - \\frac{3 x^{2} \\left(x^{2} + 4\\right)}{\\left(x^{3} - 1\\right)^{2}} + \\frac{2 x}{x^{3} - 1}$"
      ],
      "text/plain": [
       "-3*x**2*(x**2 + 4)/(x**3 - 1)**2 + 2*x/(x**3 - 1)"
      ]
     },
     "execution_count": 38,
     "metadata": {},
     "output_type": "execute_result"
    }
   ],
   "source": [
    "#K\n",
    "eq42 = sp.diff((x**2 + 4)/ (x**3 - 1), x)\n",
    "eq42"
   ]
  },
  {
   "cell_type": "code",
   "execution_count": 37,
   "id": "bc9cdead-e4b5-49f6-ac2e-6fc54f2e8754",
   "metadata": {},
   "outputs": [
    {
     "data": {
      "text/latex": [
       "$\\displaystyle \\frac{x^{2} \\left(- 2 x - 2\\right)}{\\left(x^{2} + 2 x\\right)^{2}} + \\frac{2 x}{x^{2} + 2 x}$"
      ],
      "text/plain": [
       "x**2*(-2*x - 2)/(x**2 + 2*x)**2 + 2*x/(x**2 + 2*x)"
      ]
     },
     "execution_count": 37,
     "metadata": {},
     "output_type": "execute_result"
    }
   ],
   "source": [
    "#L\n",
    "eq43 = sp.diff((x**2)/(x** 2+ 2*x), x)\n",
    "eq43"
   ]
  },
  {
   "cell_type": "code",
   "execution_count": 39,
   "id": "b8ab5ccd-0ec9-4df6-ad32-343bf12d3aa3",
   "metadata": {},
   "outputs": [
    {
     "data": {
      "text/latex": [
       "$\\displaystyle \\frac{2 x + 4}{x - 2} - \\frac{x^{2} + 4 x + 2}{\\left(x - 2\\right)^{2}}$"
      ],
      "text/plain": [
       "(2*x + 4)/(x - 2) - (x**2 + 4*x + 2)/(x - 2)**2"
      ]
     },
     "execution_count": 39,
     "metadata": {},
     "output_type": "execute_result"
    }
   ],
   "source": [
    "#M \n",
    "eq44 = sp.diff((x**2 + 4*x + 2)/(x - 2) , x)\n",
    "eq44"
   ]
  },
  {
   "cell_type": "code",
   "execution_count": 40,
   "id": "fa99d7f5-869f-4920-8ecb-030e8bc2d080",
   "metadata": {},
   "outputs": [
    {
     "data": {
      "text/latex": [
       "$\\displaystyle - \\frac{2 x \\left(x^{3} - 2 x\\right)}{\\left(x^{2} - 1\\right)^{2}} + \\frac{3 x^{2} - 2}{x^{2} - 1}$"
      ],
      "text/plain": [
       "-2*x*(x**3 - 2*x)/(x**2 - 1)**2 + (3*x**2 - 2)/(x**2 - 1)"
      ]
     },
     "execution_count": 40,
     "metadata": {},
     "output_type": "execute_result"
    }
   ],
   "source": [
    "#Oppgave 2\n",
    "#A\n",
    "eq45 = sp.diff((x**3 - 2*x)/(x**2 - 1), x)\n",
    "eq45\n"
   ]
  },
  {
   "cell_type": "code",
   "execution_count": 41,
   "id": "f49b2e7a-743c-41c4-a5df-7e6640602b3f",
   "metadata": {},
   "outputs": [
    {
     "data": {
      "text/latex": [
       "$\\displaystyle 2 x \\left(x^{2} - 1\\right) + 2 x \\left(x^{2} + 1\\right)$"
      ],
      "text/plain": [
       "2*x*(x**2 - 1) + 2*x*(x**2 + 1)"
      ]
     },
     "execution_count": 41,
     "metadata": {},
     "output_type": "execute_result"
    }
   ],
   "source": [
    "#B\n",
    "eq46 = sp.diff((x**2 + 1)*(x**2 - 1), x)\n",
    "eq46"
   ]
  },
  {
   "cell_type": "code",
   "execution_count": 42,
   "id": "5e164a57-bb72-4be2-92ce-accebe4b911f",
   "metadata": {},
   "outputs": [
    {
     "data": {
      "text/latex": [
       "$\\displaystyle - \\frac{3 x^{2} \\left(3 x - 4\\right)}{\\left(x^{3} + 7\\right)^{2}} + \\frac{3}{x^{3} + 7}$"
      ],
      "text/plain": [
       "-3*x**2*(3*x - 4)/(x**3 + 7)**2 + 3/(x**3 + 7)"
      ]
     },
     "execution_count": 42,
     "metadata": {},
     "output_type": "execute_result"
    }
   ],
   "source": [
    "#C\n",
    "eq47 = sp.diff((3*x - 4) / (x**3 + 7) , x)\n",
    "eq47"
   ]
  },
  {
   "cell_type": "code",
   "execution_count": 106,
   "id": "d7d4d094-2f27-437b-9360-3e80919e7450",
   "metadata": {},
   "outputs": [],
   "source": [
    "##Modul 21 : Kjerneregelen\n",
    "import sympy as sp\n",
    "from sympy.solvers import solve\n",
    "x,y=sp.symbols('x y')\n",
    "#Oppgave 1"
   ]
  },
  {
   "cell_type": "code",
   "execution_count": 89,
   "id": "612cb641-7419-4d65-9570-e23e1379d487",
   "metadata": {},
   "outputs": [
    {
     "data": {
      "text/latex": [
       "$\\displaystyle \\left(15 x^{2} + 30\\right) \\left(x^{3} + 6 x\\right)^{4}$"
      ],
      "text/plain": [
       "(15*x**2 + 30)*(x**3 + 6*x)**4"
      ]
     },
     "execution_count": 89,
     "metadata": {},
     "output_type": "execute_result"
    }
   ],
   "source": [
    "#A\n",
    "\n",
    "eq48 = sp.diff((x**3 + 6*x)**5)\n",
    "eq48"
   ]
  },
  {
   "cell_type": "code",
   "execution_count": 97,
   "id": "681246c5-61e5-4706-89b3-db2bc5ccdb90",
   "metadata": {},
   "outputs": [
    {
     "data": {
      "text/latex": [
       "$\\displaystyle \\frac{2 x}{\\sqrt{2 x^{2} + 5}}$"
      ],
      "text/plain": [
       "2*x/sqrt(2*x**2 + 5)"
      ]
     },
     "execution_count": 97,
     "metadata": {},
     "output_type": "execute_result"
    }
   ],
   "source": [
    "#B\n",
    "\n",
    "eq49 = sp.diff(sp.sqrt(2*x**2 + 5), x)\n",
    "eq49"
   ]
  },
  {
   "cell_type": "code",
   "execution_count": 43,
   "id": "5328f7f4-b5e3-42c4-b3a8-06188a70bd6d",
   "metadata": {},
   "outputs": [
    {
     "data": {
      "text/latex": [
       "$\\displaystyle - \\frac{16 x^{2}}{\\left(x^{2} + 3\\right)^{5}} + \\frac{2}{\\left(x^{2} + 3\\right)^{4}}$"
      ],
      "text/plain": [
       "-16*x**2/(x**2 + 3)**5 + 2/(x**2 + 3)**4"
      ]
     },
     "execution_count": 43,
     "metadata": {},
     "output_type": "execute_result"
    }
   ],
   "source": [
    "#C\n",
    "eq50 = sp.diff((2*x)/(x**2 + 3)**4, x)\n",
    "eq50"
   ]
  },
  {
   "cell_type": "code",
   "execution_count": 103,
   "id": "6d2a1624-6ccc-4d14-ba48-39d166f70070",
   "metadata": {},
   "outputs": [
    {
     "data": {
      "text/latex": [
       "$\\displaystyle 12 x^{3} \\left(2 x^{4} + 9\\right)^{2}$"
      ],
      "text/plain": [
       "12*x**3*(2*x**4 + 9)**2"
      ]
     },
     "execution_count": 103,
     "metadata": {},
     "output_type": "execute_result"
    }
   ],
   "source": [
    "#D\n",
    "eq51 = sp.diff((2*x**4 + 9)**3/2, x)\n",
    "eq51"
   ]
  },
  {
   "cell_type": "code",
   "execution_count": 44,
   "id": "da471c1d-5c48-4111-97cb-8bc7c7f480ee",
   "metadata": {},
   "outputs": [
    {
     "data": {
      "text/latex": [
       "$\\displaystyle - \\frac{x}{\\left(x^{2} + 1\\right)^{\\frac{3}{2}}}$"
      ],
      "text/plain": [
       "-x/(x**2 + 1)**(3/2)"
      ]
     },
     "execution_count": 44,
     "metadata": {},
     "output_type": "execute_result"
    }
   ],
   "source": [
    "#E\n",
    "eq52 = sp.diff((1) / (sp.sqrt(1 + x**2)), x)\n",
    "eq52"
   ]
  },
  {
   "cell_type": "code",
   "execution_count": 115,
   "id": "a9d58936-85da-4e13-945b-5f7a02035c32",
   "metadata": {},
   "outputs": [
    {
     "data": {
      "text/latex": [
       "$\\displaystyle x^{2} \\left(6 x + 6\\right) \\left(x^{2} + 2 x\\right)^{2} + 2 x \\left(x^{2} + 2 x\\right)^{3}$"
      ],
      "text/plain": [
       "x**2*(6*x + 6)*(x**2 + 2*x)**2 + 2*x*(x**2 + 2*x)**3"
      ]
     },
     "execution_count": 115,
     "metadata": {},
     "output_type": "execute_result"
    }
   ],
   "source": [
    "#F\n",
    "eq53 = sp.diff(x**2*(x**2 + 2*x)**3, x)\n",
    "eq53"
   ]
  },
  {
   "cell_type": "code",
   "execution_count": 110,
   "id": "4e5bb784-4671-41fd-a26c-0e66caffb2aa",
   "metadata": {},
   "outputs": [
    {
     "data": {
      "text/latex": [
       "$\\displaystyle \\frac{x^{2} \\left(x - 1\\right)}{\\sqrt{x^{2} - 2 x}} + 2 x \\sqrt{x^{2} - 2 x}$"
      ],
      "text/plain": [
       "x**2*(x - 1)/sqrt(x**2 - 2*x) + 2*x*sqrt(x**2 - 2*x)"
      ]
     },
     "execution_count": 110,
     "metadata": {},
     "output_type": "execute_result"
    }
   ],
   "source": [
    "#G\n",
    "eq54 = sp.diff(x**2 * sp.sqrt(x**2 - 2*x))\n",
    "eq54"
   ]
  },
  {
   "cell_type": "code",
   "execution_count": 45,
   "id": "2088d90f-357e-4d4d-8e88-ffd8f47d6877",
   "metadata": {},
   "outputs": [
    {
     "data": {
      "text/latex": [
       "$\\displaystyle \\frac{x^{2} \\left(- 6 x - 3\\right)}{\\left(x^{2} + x\\right)^{4}} + \\frac{2 x}{\\left(x^{2} + x\\right)^{3}}$"
      ],
      "text/plain": [
       "x**2*(-6*x - 3)/(x**2 + x)**4 + 2*x/(x**2 + x)**3"
      ]
     },
     "execution_count": 45,
     "metadata": {},
     "output_type": "execute_result"
    }
   ],
   "source": [
    "#H\n",
    "eq55 = sp.diff((x**2) / (x**2 + x)**3 , x)\n",
    "eq55"
   ]
  },
  {
   "cell_type": "code",
   "execution_count": 120,
   "id": "3a2923bc-b63d-4940-9a3b-347f96897a2e",
   "metadata": {},
   "outputs": [
    {
     "data": {
      "text/latex": [
       "$\\displaystyle 9 x^{2} \\left(x^{2} + 1\\right)^{2} \\left(x^{3} + 1\\right)^{2} + 4 x \\left(x^{2} + 1\\right) \\left(x^{3} + 1\\right)^{3}$"
      ],
      "text/plain": [
       "9*x**2*(x**2 + 1)**2*(x**3 + 1)**2 + 4*x*(x**2 + 1)*(x**3 + 1)**3"
      ]
     },
     "execution_count": 120,
     "metadata": {},
     "output_type": "execute_result"
    }
   ],
   "source": [
    "#I\n",
    "eq56 = sp.diff((x**2 + 1)**2 * (x**3 + 1)**3, x)\n",
    "eq56"
   ]
  },
  {
   "cell_type": "code",
   "execution_count": 122,
   "id": "80f56d54-107d-4ab9-bca0-8a2d03456679",
   "metadata": {},
   "outputs": [],
   "source": [
    "#Oppgave 2\n"
   ]
  },
  {
   "cell_type": "code",
   "execution_count": 123,
   "id": "55a051c2-9000-4a3d-b490-876c61b83637",
   "metadata": {},
   "outputs": [
    {
     "data": {
      "text/latex": [
       "$\\displaystyle \\left(12 x + 4\\right) \\left(3 x^{2} + 2 x\\right)$"
      ],
      "text/plain": [
       "(12*x + 4)*(3*x**2 + 2*x)"
      ]
     },
     "execution_count": 123,
     "metadata": {},
     "output_type": "execute_result"
    }
   ],
   "source": [
    "#A \n",
    "eq57 = sp.diff(sp.sqrt(3*x**2 + 2*x)**4, x)\n",
    "eq57"
   ]
  },
  {
   "cell_type": "code",
   "execution_count": 124,
   "id": "2f5a1489-a91a-480c-b0ca-e74dff752147",
   "metadata": {},
   "outputs": [
    {
     "data": {
      "text/latex": [
       "$\\displaystyle 15 x^{2} \\left(x^{2} + 3\\right)^{4} \\left(x^{3} + 3\\right)^{4} + 8 x \\left(x^{2} + 3\\right)^{3} \\left(x^{3} + 3\\right)^{5}$"
      ],
      "text/plain": [
       "15*x**2*(x**2 + 3)**4*(x**3 + 3)**4 + 8*x*(x**2 + 3)**3*(x**3 + 3)**5"
      ]
     },
     "execution_count": 124,
     "metadata": {},
     "output_type": "execute_result"
    }
   ],
   "source": [
    "#B\n",
    "eq58 = sp.diff(((x**3 + 3)**5 * (x**2 + 3)**4), x)\n",
    "eq58"
   ]
  },
  {
   "cell_type": "code",
   "execution_count": 138,
   "id": "a6b6cf5e-10f6-4edd-a18d-aad3c331ae59",
   "metadata": {},
   "outputs": [
    {
     "data": {
      "text/latex": [
       "$\\displaystyle \\frac{\\sqrt{2} \\sqrt{x^{2}}}{x}$"
      ],
      "text/plain": [
       "sqrt(2)*sqrt(x**2)/x"
      ]
     },
     "execution_count": 138,
     "metadata": {},
     "output_type": "execute_result"
    }
   ],
   "source": [
    "#C\n",
    "eq59 = sp.diff(sp.sqrt(x**2 + 1 * x**2) , x)\n",
    "eq59"
   ]
  },
  {
   "cell_type": "code",
   "execution_count": 46,
   "id": "d8afac5d-4825-4ee5-8a68-6efa7e54c3a4",
   "metadata": {},
   "outputs": [
    {
     "data": {
      "text/latex": [
       "$\\displaystyle \\frac{\\left(18 x + 6\\right) \\left(3 x^{2} + 2 x\\right)^{2}}{x^{2}} - \\frac{2 \\left(3 x^{2} + 2 x\\right)^{3}}{x^{3}}$"
      ],
      "text/plain": [
       "(18*x + 6)*(3*x**2 + 2*x)**2/x**2 - 2*(3*x**2 + 2*x)**3/x**3"
      ]
     },
     "execution_count": 46,
     "metadata": {},
     "output_type": "execute_result"
    }
   ],
   "source": [
    "#D\n",
    "eq60 = sp.diff((2*x + 3*x**2)**3 / (x**2) , x)\n",
    "eq60"
   ]
  },
  {
   "cell_type": "code",
   "execution_count": 49,
   "id": "8b54be52-424f-4daf-bf30-984a8f12934a",
   "metadata": {},
   "outputs": [
    {
     "data": {
      "text/latex": [
       "$\\displaystyle \\frac{4 x^{3}}{3}$"
      ],
      "text/plain": [
       "4*x**3/3"
      ]
     },
     "execution_count": 49,
     "metadata": {},
     "output_type": "execute_result"
    }
   ],
   "source": [
    "#E\n",
    "eq61 = sp.diff(((x**4 - 5)**1/3) , x)\n",
    "eq61"
   ]
  },
  {
   "cell_type": "code",
   "execution_count": 50,
   "id": "0111029e-4fff-4328-9411-d37e909f513f",
   "metadata": {},
   "outputs": [
    {
     "data": {
      "text/latex": [
       "$\\displaystyle - \\frac{2 x^{6}}{\\left(x^{4} - 1\\right)^{\\frac{3}{2}}} + \\frac{3 x^{2}}{\\sqrt{x^{4} - 1}}$"
      ],
      "text/plain": [
       "-2*x**6/(x**4 - 1)**(3/2) + 3*x**2/sqrt(x**4 - 1)"
      ]
     },
     "execution_count": 50,
     "metadata": {},
     "output_type": "execute_result"
    }
   ],
   "source": [
    "#F\n",
    "eq62 = sp.diff((x**3) / sp.sqrt(x**4 - 1), x)\n",
    "eq62"
   ]
  },
  {
   "cell_type": "code",
   "execution_count": 130,
   "id": "07385f22-cedb-4ec1-9227-d22d8254c2c9",
   "metadata": {},
   "outputs": [],
   "source": [
    "## Modul 22: Derivasjon av logartime- og eksponentialfunksjoner\n"
   ]
  },
  {
   "cell_type": "code",
   "execution_count": 133,
   "id": "32fee3bc-6561-45d3-bbe2-68afb48bcfb2",
   "metadata": {},
   "outputs": [
    {
     "data": {
      "text/latex": [
       "$\\displaystyle x^{\\frac{1}{y}}$"
      ],
      "text/plain": [
       "x**(1/y)"
      ]
     },
     "metadata": {},
     "output_type": "display_data"
    },
    {
     "data": {
      "text/latex": [
       "$\\displaystyle \\log{\\left(x \\right)}$"
      ],
      "text/plain": [
       "log(x)"
      ]
     },
     "metadata": {},
     "output_type": "display_data"
    },
    {
     "data": {
      "text/latex": [
       "$\\displaystyle e^{x}$"
      ],
      "text/plain": [
       "exp(x)"
      ]
     },
     "metadata": {},
     "output_type": "display_data"
    }
   ],
   "source": [
    "#Oppgave 1\n",
    "#display blir brukt som \"print\" her\n",
    "\n",
    "import sympy as sp\n",
    "x,y = sp.symbols ('x y')\n",
    "display( sp.root(x, y))\n",
    "display( sp.log(x))\n",
    "display( sp.exp(x))\n"
   ]
  },
  {
   "cell_type": "code",
   "execution_count": 144,
   "id": "ea25eb32-1d76-48eb-81f3-84f201d4de89",
   "metadata": {},
   "outputs": [
    {
     "data": {
      "text/latex": [
       "$\\displaystyle \\frac{1}{x}$"
      ],
      "text/plain": [
       "1/x"
      ]
     },
     "execution_count": 144,
     "metadata": {},
     "output_type": "execute_result"
    }
   ],
   "source": [
    "#A\n",
    "eq63 = sp.diff(sp.log(5*x))\n",
    "eq63"
   ]
  },
  {
   "cell_type": "code",
   "execution_count": 147,
   "id": "1ee2f00d-4dcb-4827-a306-acb16cdf6200",
   "metadata": {},
   "outputs": [],
   "source": [
    "from sympy import E"
   ]
  },
  {
   "cell_type": "code",
   "execution_count": 162,
   "id": "debdfd75-e578-4cad-9324-12aa3ce55c34",
   "metadata": {},
   "outputs": [
    {
     "data": {
      "text/latex": [
       "$\\displaystyle \\frac{1}{x}$"
      ],
      "text/plain": [
       "1/x"
      ]
     },
     "execution_count": 162,
     "metadata": {},
     "output_type": "execute_result"
    }
   ],
   "source": [
    "#B #Ikke riktig?\n",
    "eq64 = sp.diff(sp.log(E**-2*x))\n",
    "eq64"
   ]
  },
  {
   "cell_type": "code",
   "execution_count": 166,
   "id": "b4f997ac-ac7e-4d21-b558-22d5d4eafdb4",
   "metadata": {},
   "outputs": [
    {
     "data": {
      "text/latex": [
       "$\\displaystyle \\frac{1}{x}$"
      ],
      "text/plain": [
       "1/x"
      ]
     },
     "execution_count": 166,
     "metadata": {},
     "output_type": "execute_result"
    }
   ],
   "source": [
    "#C #Ikke riktig?\n",
    "eq65 = sp.diff(sp.log(12*x) - 3)\n",
    "eq65"
   ]
  },
  {
   "cell_type": "code",
   "execution_count": 165,
   "id": "762f1d5f-db3a-423c-8f30-9079374715d0",
   "metadata": {},
   "outputs": [
    {
     "data": {
      "text/latex": [
       "$\\displaystyle 2^{x} \\log{\\left(2 \\right)}$"
      ],
      "text/plain": [
       "2**x*log(2)"
      ]
     },
     "execution_count": 165,
     "metadata": {},
     "output_type": "execute_result"
    }
   ],
   "source": [
    "#D\n",
    "eq66 = sp.diff(2**x)\n",
    "eq66"
   ]
  },
  {
   "cell_type": "code",
   "execution_count": 167,
   "id": "74d3d039-a959-4617-90d6-2a65184e04d7",
   "metadata": {},
   "outputs": [
    {
     "data": {
      "text/latex": [
       "$\\displaystyle e^{3}$"
      ],
      "text/plain": [
       "exp(3)"
      ]
     },
     "execution_count": 167,
     "metadata": {},
     "output_type": "execute_result"
    }
   ],
   "source": [
    "#E\n",
    "eq67 = sp.diff(E**3*x + 5)\n",
    "eq67"
   ]
  },
  {
   "cell_type": "code",
   "execution_count": 169,
   "id": "47a63f16-4355-41a5-b625-c778537403f2",
   "metadata": {},
   "outputs": [
    {
     "data": {
      "text/latex": [
       "$\\displaystyle \\frac{5 x^{4}}{x^{5} + 1}$"
      ],
      "text/plain": [
       "5*x**4/(x**5 + 1)"
      ]
     },
     "execution_count": 169,
     "metadata": {},
     "output_type": "execute_result"
    }
   ],
   "source": [
    "#F\n",
    "eq68 = sp.diff(sp.log(x**5 + 1))\n",
    "eq68"
   ]
  },
  {
   "cell_type": "code",
   "execution_count": 172,
   "id": "0f23724f-c592-4a8e-8588-379e05f86176",
   "metadata": {},
   "outputs": [
    {
     "data": {
      "text/latex": [
       "$\\displaystyle \\frac{2 x e^{4} + 8}{\\left(x^{2} e^{4} + 8 x\\right) \\log{\\left(x \\right)}} - \\frac{\\log{\\left(x^{2} e^{4} + 8 x \\right)}}{x \\log{\\left(x \\right)}^{2}}$"
      ],
      "text/plain": [
       "(2*x*exp(4) + 8)/((x**2*exp(4) + 8*x)*log(x)) - log(x**2*exp(4) + 8*x)/(x*log(x)**2)"
      ]
     },
     "execution_count": 172,
     "metadata": {},
     "output_type": "execute_result"
    }
   ],
   "source": [
    "#G # ikke riktig?\n",
    "eq69 = sp.diff(sp.log(E**4*x**2 + 8*x , x))\n",
    "eq69"
   ]
  },
  {
   "cell_type": "code",
   "execution_count": 171,
   "id": "fc4bf5f4-5236-43e7-9787-dab0d55c60a0",
   "metadata": {},
   "outputs": [
    {
     "data": {
      "text/latex": [
       "$\\displaystyle - \\frac{1}{x}$"
      ],
      "text/plain": [
       "-1/x"
      ]
     },
     "execution_count": 171,
     "metadata": {},
     "output_type": "execute_result"
    }
   ],
   "source": [
    "#H\n",
    "eq70 = sp.diff(sp.log(1 / x ))\n",
    "eq70"
   ]
  },
  {
   "cell_type": "code",
   "execution_count": 174,
   "id": "49d37224-bd02-4adf-b111-dc0af4e11bd8",
   "metadata": {},
   "outputs": [
    {
     "data": {
      "text/latex": [
       "$\\displaystyle \\frac{6 + 3 e^{4}}{6 x + 3 x e^{4}}$"
      ],
      "text/plain": [
       "(6 + 3*exp(4))/(6*x + 3*x*exp(4))"
      ]
     },
     "execution_count": 174,
     "metadata": {},
     "output_type": "execute_result"
    }
   ],
   "source": [
    "#I # Ikke riktig?\n",
    "eq71 = sp.diff(sp.log(6 * x + 3*E**4*x))\n",
    "eq71"
   ]
  },
  {
   "cell_type": "code",
   "execution_count": 182,
   "id": "e9c02da0-ee47-4eba-80fc-9ce8278c8d8f",
   "metadata": {},
   "outputs": [
    {
     "data": {
      "text/latex": [
       "$\\displaystyle - x e^{- x} + e^{- x}$"
      ],
      "text/plain": [
       "-x*exp(-x) + exp(-x)"
      ]
     },
     "execution_count": 182,
     "metadata": {},
     "output_type": "execute_result"
    }
   ],
   "source": [
    "#J\n",
    "eq72 = sp.diff(x * E** -x)\n",
    "eq72"
   ]
  },
  {
   "cell_type": "code",
   "execution_count": 200,
   "id": "e869ab43-6fb5-429d-8680-87c862a452a7",
   "metadata": {},
   "outputs": [
    {
     "data": {
      "text/latex": [
       "$\\displaystyle \\frac{2 x^{3}}{\\left(x^{2} + 2\\right) \\log{\\left(x \\right)}} + \\frac{2 x \\log{\\left(x^{2} + 2 \\right)}}{\\log{\\left(x \\right)}} - \\frac{x \\log{\\left(x^{2} + 2 \\right)}}{\\log{\\left(x \\right)}^{2}}$"
      ],
      "text/plain": [
       "2*x**3/((x**2 + 2)*log(x)) + 2*x*log(x**2 + 2)/log(x) - x*log(x**2 + 2)/log(x)**2"
      ]
     },
     "execution_count": 200,
     "metadata": {},
     "output_type": "execute_result"
    }
   ],
   "source": [
    "#K #Feilmelding?\n",
    "\n",
    "eq73 = sp.diff(x**2*sp.log(x**2 + 2, x))\n",
    "eq73"
   ]
  },
  {
   "cell_type": "code",
   "execution_count": 183,
   "id": "9384820d-1fae-4740-80bc-f08bc2b669a2",
   "metadata": {},
   "outputs": [],
   "source": [
    "#Oppgave 2"
   ]
  },
  {
   "cell_type": "code",
   "execution_count": 201,
   "id": "ab72e02c-50c4-4bf4-98e1-aef336c57f56",
   "metadata": {},
   "outputs": [
    {
     "data": {
      "text/latex": [
       "$\\displaystyle 4 x^{3} e^{2}$"
      ],
      "text/plain": [
       "4*x**3*exp(2)"
      ]
     },
     "execution_count": 201,
     "metadata": {},
     "output_type": "execute_result"
    }
   ],
   "source": [
    "#A\n",
    "eq74 = sp.diff(x**3*E**2*x)\n",
    "eq74"
   ]
  },
  {
   "cell_type": "code",
   "execution_count": 52,
   "id": "54565ade-b005-4cf4-8c23-2053070d9927",
   "metadata": {},
   "outputs": [
    {
     "data": {
      "text/latex": [
       "$\\displaystyle \\frac{\\left(x^{2} + 1\\right) \\left(- \\frac{2 x \\left(x^{2} - 1\\right)}{\\left(x^{2} + 1\\right)^{2}} + \\frac{2 x}{x^{2} + 1}\\right)}{x^{2} - 1}$"
      ],
      "text/plain": [
       "(x**2 + 1)*(-2*x*(x**2 - 1)/(x**2 + 1)**2 + 2*x/(x**2 + 1))/(x**2 - 1)"
      ]
     },
     "execution_count": 52,
     "metadata": {},
     "output_type": "execute_result"
    }
   ],
   "source": [
    "#B\n",
    "eq75 = sp.diff(sp.log((x**2 - 1) / (x**2 + 1)))\n",
    "eq75"
   ]
  },
  {
   "cell_type": "code",
   "execution_count": 204,
   "id": "32f4da73-1b52-49ce-b045-a2428d2deb0e",
   "metadata": {},
   "outputs": [
    {
     "data": {
      "text/latex": [
       "$\\displaystyle \\frac{2 x^{3}}{x^{2} + 2} + 2 x \\log{\\left(x^{2} + 2 \\right)}$"
      ],
      "text/plain": [
       "2*x**3/(x**2 + 2) + 2*x*log(x**2 + 2)"
      ]
     },
     "execution_count": 204,
     "metadata": {},
     "output_type": "execute_result"
    }
   ],
   "source": [
    "#C\n",
    "eq76 = sp.diff(x**2 * sp.log(x**2 +2))\n",
    "eq76"
   ]
  },
  {
   "cell_type": "code",
   "execution_count": 55,
   "id": "40c8b8ca-a7c3-48f4-87f4-dee26df8c889",
   "metadata": {},
   "outputs": [
    {
     "data": {
      "text/latex": [
       "$\\displaystyle - \\frac{2 x e^{- x}}{\\left(x^{2} + 1\\right)^{2}} - \\frac{e^{- x}}{x^{2} + 1}$"
      ],
      "text/plain": [
       "-2*x*exp(-x)/(x**2 + 1)**2 - exp(-x)/(x**2 + 1)"
      ]
     },
     "execution_count": 55,
     "metadata": {},
     "output_type": "execute_result"
    }
   ],
   "source": [
    "#D\n",
    "from sympy import E\n",
    "\n",
    "eq77 = sp.diff((E** - x)/ (x**2 + 1))\n",
    "eq77"
   ]
  },
  {
   "cell_type": "code",
   "execution_count": null,
   "id": "708eed91-6dc8-40cf-b017-38f40a129d32",
   "metadata": {},
   "outputs": [],
   "source": []
  }
 ],
 "metadata": {
  "kernelspec": {
   "display_name": "Python 3 (ipykernel)",
   "language": "python",
   "name": "python3"
  },
  "language_info": {
   "codemirror_mode": {
    "name": "ipython",
    "version": 3
   },
   "file_extension": ".py",
   "mimetype": "text/x-python",
   "name": "python",
   "nbconvert_exporter": "python",
   "pygments_lexer": "ipython3",
   "version": "3.9.5"
  }
 },
 "nbformat": 4,
 "nbformat_minor": 5
}
